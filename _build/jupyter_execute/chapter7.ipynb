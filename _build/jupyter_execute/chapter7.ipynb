{
 "cells": [
  {
   "cell_type": "markdown",
   "id": "7a4e2f85-1a80-40dc-9465-540dcbd36b92",
   "metadata": {},
   "source": [
    "<h1><b> 물고기 키워보자 </b></h1>"
   ]
  },
  {
   "cell_type": "markdown",
   "id": "59d09009-dc47-4f48-ae57-e99713bf07be",
   "metadata": {},
   "source": [
    "<h2>개발환경</h2>"
   ]
  },
  {
   "cell_type": "markdown",
   "id": "359985cc-0a8f-4910-acf8-afe2358760e2",
   "metadata": {},
   "source": [
    "<h2>물고기 및 XingAPI 패키지 설치</h2>"
   ]
  },
  {
   "cell_type": "markdown",
   "id": "2626bd96-4938-491d-b088-2ec69e5a0374",
   "metadata": {},
   "source": [
    "그림 7.1 에서 보이는 이베스트 온(eBEST ON) 애플리케이션을 설치하고 비대면 계좌 개설을 진행 합니다. 신분증 촬영과 간단한 인증절차를 밟으면 손쉽게 계좌 개설을 완료 할 수 있습니다."
   ]
  },
  {
   "cell_type": "markdown",
   "id": "b0499a14-6d54-4170-81d2-8e85b797232d",
   "metadata": {},
   "source": [
    "<figure>\n",
    "    <img src=\"fish.jfif\" alt=\"fish\" style=\"width:500px; height:400px;\"/> \n",
    "    <figcaption>그림 1. 물고기 입니다.</figcaption>\n",
    "</figure>"
   ]
  },
  {
   "cell_type": "code",
   "execution_count": 1,
   "id": "e46a75ba-0b10-43df-a1ea-9616d1d6e492",
   "metadata": {},
   "outputs": [
    {
     "name": "stderr",
     "output_type": "stream",
     "text": [
      "'[Annotated'은(는) 내부 또는 외부 명령, 실행할 수 있는 프로그램, 또는\n",
      "배치 파일이 아닙니다.\n"
     ]
    }
   ],
   "source": [
    "![Annotated Pythia Foundations home page](../images/foundations_diagram.png)"
   ]
  },
  {
   "cell_type": "code",
   "execution_count": null,
   "id": "f3883656-37dd-4162-92ef-2bb60fea2972",
   "metadata": {},
   "outputs": [],
   "source": []
  },
  {
   "cell_type": "code",
   "execution_count": null,
   "id": "65ea2396-44e2-4271-baa5-218bd54ba483",
   "metadata": {},
   "outputs": [],
   "source": []
  },
  {
   "cell_type": "code",
   "execution_count": null,
   "id": "45c64d21-e64e-4c59-8a6a-09f9de1d9401",
   "metadata": {},
   "outputs": [],
   "source": []
  },
  {
   "cell_type": "code",
   "execution_count": null,
   "id": "1ee4d618-46f9-471e-b04c-b5df8a3fb7f3",
   "metadata": {},
   "outputs": [],
   "source": []
  },
  {
   "cell_type": "code",
   "execution_count": null,
   "id": "f551b98c-4e61-4e62-8618-c065d36de16c",
   "metadata": {},
   "outputs": [],
   "source": []
  },
  {
   "cell_type": "code",
   "execution_count": null,
   "id": "eebb2716-ab9e-4cfd-b50b-fa7d1c6c48ee",
   "metadata": {},
   "outputs": [],
   "source": []
  },
  {
   "cell_type": "code",
   "execution_count": null,
   "id": "c304a0fe-f3a5-4080-a591-260589716d9e",
   "metadata": {},
   "outputs": [],
   "source": []
  },
  {
   "cell_type": "code",
   "execution_count": null,
   "id": "9fe0e9b9-82ab-4a03-b42a-600daca81485",
   "metadata": {},
   "outputs": [],
   "source": []
  },
  {
   "cell_type": "code",
   "execution_count": null,
   "id": "b2e84a04-ca45-4127-99ec-d816b9dcd8ef",
   "metadata": {},
   "outputs": [],
   "source": []
  },
  {
   "cell_type": "code",
   "execution_count": null,
   "id": "8361f4af-5454-47bc-bd62-0ba3539a6a03",
   "metadata": {},
   "outputs": [],
   "source": []
  },
  {
   "cell_type": "code",
   "execution_count": null,
   "id": "01c62267-07c2-4e3c-82b1-e3e5211e086d",
   "metadata": {},
   "outputs": [],
   "source": []
  },
  {
   "cell_type": "code",
   "execution_count": null,
   "id": "392105d8-9c12-45c9-b042-96acfb3fb766",
   "metadata": {},
   "outputs": [],
   "source": []
  },
  {
   "cell_type": "code",
   "execution_count": null,
   "id": "17aea66f-b69f-441a-9644-6cffa1dc412b",
   "metadata": {},
   "outputs": [],
   "source": []
  },
  {
   "cell_type": "code",
   "execution_count": null,
   "id": "10b324b6-e590-4c8b-8db8-de6e7c99ddb3",
   "metadata": {},
   "outputs": [],
   "source": []
  },
  {
   "cell_type": "code",
   "execution_count": null,
   "id": "9eac2498-aceb-46db-8fe2-bc9dac978e6d",
   "metadata": {},
   "outputs": [],
   "source": []
  },
  {
   "cell_type": "code",
   "execution_count": null,
   "id": "6d294750-a50b-4be8-89c3-c70559d1cc2f",
   "metadata": {},
   "outputs": [],
   "source": []
  },
  {
   "cell_type": "code",
   "execution_count": null,
   "id": "2eb2d71c-46aa-4d47-aeb7-6457ee8a49ef",
   "metadata": {},
   "outputs": [],
   "source": []
  },
  {
   "cell_type": "code",
   "execution_count": null,
   "id": "21ef4b04-f954-4878-994f-ccbfaf5d5ab8",
   "metadata": {},
   "outputs": [],
   "source": []
  },
  {
   "cell_type": "code",
   "execution_count": null,
   "id": "6e4d7d86-1760-46e1-8d87-1e3270a7eec1",
   "metadata": {},
   "outputs": [],
   "source": []
  },
  {
   "cell_type": "code",
   "execution_count": null,
   "id": "57239c53-244e-4a6f-a300-26f1578c5390",
   "metadata": {},
   "outputs": [],
   "source": []
  },
  {
   "cell_type": "code",
   "execution_count": null,
   "id": "2631b012-f02d-4898-9370-fc33189c3c61",
   "metadata": {},
   "outputs": [],
   "source": []
  },
  {
   "cell_type": "code",
   "execution_count": null,
   "id": "6ffe4636-5b82-4832-a07d-99b610c75a85",
   "metadata": {},
   "outputs": [],
   "source": []
  }
 ],
 "metadata": {
  "kernelspec": {
   "display_name": "Python 3 (ipykernel)",
   "language": "python",
   "name": "python3"
  },
  "language_info": {
   "codemirror_mode": {
    "name": "ipython",
    "version": 3
   },
   "file_extension": ".py",
   "mimetype": "text/x-python",
   "name": "python",
   "nbconvert_exporter": "python",
   "pygments_lexer": "ipython3",
   "version": "3.9.7"
  }
 },
 "nbformat": 4,
 "nbformat_minor": 5
}