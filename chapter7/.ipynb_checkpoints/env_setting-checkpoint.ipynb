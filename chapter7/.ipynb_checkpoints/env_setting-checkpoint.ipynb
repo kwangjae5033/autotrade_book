{
 "cells": [
  {
   "cell_type": "markdown",
   "id": "5a2887f5-e7ab-4bd3-abad-bd74e858e1ec",
   "metadata": {},
   "source": [
    "# **개발환경**"
   ]
  },
  {
   "cell_type": "markdown",
   "id": "82980228-5dfd-44db-a710-f5544eceb21c",
   "metadata": {},
   "source": [
    "## **계좌개설**"
   ]
  },
  {
   "cell_type": "markdown",
   "id": "2a337b85-c0c3-46e7-a513-34e0d72b96dc",
   "metadata": {},
   "source": [
    "```{figure} ../images/image15.png\n",
    ":width: 300px\n",
    ":height: 200px\n",
    ":name: 이베스트 온 애플리케이션\n",
    "\n",
    "이베스트 온(eBest ON) 애플리케이션 설치\n",
    "```"
   ]
  },
  {
   "cell_type": "markdown",
   "id": "d926ab6f-6499-4ff7-8736-e0b849e4d827",
   "metadata": {},
   "source": [
    "[!image15.png][attachment:image15.png]"
   ]
  }
 ],
 "metadata": {
  "kernelspec": {
   "display_name": "Python 3 (ipykernel)",
   "language": "python",
   "name": "python3"
  },
  "language_info": {
   "codemirror_mode": {
    "name": "ipython",
    "version": 3
   },
   "file_extension": ".py",
   "mimetype": "text/x-python",
   "name": "python",
   "nbconvert_exporter": "python",
   "pygments_lexer": "ipython3",
   "version": "3.9.7"
  }
 },
 "nbformat": 4,
 "nbformat_minor": 5
}
